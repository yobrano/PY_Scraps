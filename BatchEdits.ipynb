{
 "cells": [
  {
   "cell_type": "code",
   "execution_count": 1,
   "metadata": {},
   "outputs": [],
   "source": [
    "import os\n",
    "import pandas as pd"
   ]
  },
  {
   "cell_type": "markdown",
   "metadata": {},
   "source": [
    "## Adding Logs\n",
    "\n",
    "1. Get a views method identifier\n",
    "2. Check line where the return value is Ok() or StatusCode()\n",
    "4. Write in the error and success code\n",
    "5. closer the file when done and move to the next"
   ]
  },
  {
   "cell_type": "code",
   "execution_count": 10,
   "metadata": {},
   "outputs": [],
   "source": [
    "def success_log (indentation):\n",
    "\n",
    "    return f\"\"\"\n",
    "{indentation}// - start auto add\n",
    "{indentation}logger.LogInfo(\"Message goes in here \");\n",
    "{indentation}// - end auto add  \n",
    "\"\"\"[1:]\n",
    "\n",
    "def error_log (indentation):\n",
    "\n",
    "    return f\"\"\"\n",
    "{indentation}// - start auto add\n",
    "{indentation}logger.Error(\"Message goes in here \");\n",
    "{indentation}// - end auto add  \n",
    "    \"\"\"[1:]"
   ]
  },
  {
   "cell_type": "code",
   "execution_count": 12,
   "metadata": {},
   "outputs": [],
   "source": [
    "files = os.listdir(\"./Controllers\")\n",
    "\n",
    "for file in files:\n",
    "    file_path = \"./Controllers/\" + file\n",
    "    file_contents  = []\n",
    "    with open(file_path, \"r\") as f :\n",
    "        file_contents = f.readlines()\n",
    "        new_file_contents = [*file_contents]\n",
    "        \n",
    "\n",
    "        route_name = []\n",
    "\n",
    "        added_lines = 0\n",
    "        for line_no, line in enumerate(file_contents):\n",
    "            if (\"return Ok(\" in line and \"//\" not in line ) or \"return StatusCode(StatusCodes.Status200Ok\" in line:\n",
    "                indentation = \" \" * (line.index(line.strip()) - 1)\n",
    "                log = success_log(indentation, route_name[-1])\n",
    "                new_file_contents = [*new_file_contents[:(line_no + added_lines)], log, *new_file_contents[(line_no + added_lines):]]\n",
    "                added_lines += 1\n",
    "                \n",
    "            elif (\"return StatusCode(\" in line ) and (\"//\" not in line) and (\"Status200OK\" not in line) and (\"Error\" in line):\n",
    "                indentation = \" \" * (line.index(line.strip()) - 1)\n",
    "                log = error_log(indentation, route_name[-1])\n",
    "                new_file_contents = [*new_file_contents[:(line_no + added_lines)], log, *new_file_contents[(line_no + added_lines):]]\n",
    "                added_lines += 1\n",
    "\n",
    "            elif \"public async Task\" in line:\n",
    "                indentation = \" \" * (line.index(line.strip()) - 1)            \n",
    "                loop = True\n",
    "                prev_line_no = line_no\n",
    "                while loop:\n",
    "                    prev_line = file_contents[prev_line_no - 1].strip()\n",
    "                    if (\"[Route(\\\"\" in  prev_line): \n",
    "                        loop = False\n",
    "                        route = prev_line[len(\"[Route(\\\"\" ):-3].split(\"/\")[0]\n",
    "                        route_name.append(route)\n",
    "                    \n",
    "                    prev_line_no -= 1\n",
    "        \n",
    "        f.close()\n",
    "\n",
    "    with open(file_path, \"w\") as  f:\n",
    "        f.write(\"\".join(new_file_contents))\n",
    "        f.close()\n"
   ]
  },
  {
   "cell_type": "markdown",
   "metadata": {},
   "source": [
    "## Generate a csv of all endpoints"
   ]
  },
  {
   "cell_type": "code",
   "execution_count": null,
   "metadata": {},
   "outputs": [],
   "source": [
    "dirs = os.listdir(\"./Controllers\")\n",
    "endpoint = []\n",
    "controller = []\n",
    "\n",
    "for dir in dirs:\n",
    "    file_path = \"./Controllers/\" + dir\n",
    "\n",
    "    with open(file_path, \"r\") as f :\n",
    "        file_contents = f.readlines()\n",
    "        for line_no, line in enumerate(file_contents):\n",
    "            if \"public async Task\" in line:\n",
    "                indentation = \" \" * (line.index(line.strip()) - 1)            \n",
    "                loop = True\n",
    "                prev_line_no = line_no\n",
    "                while loop:\n",
    "                    prev_line = file_contents[prev_line_no - 1].strip()\n",
    "                    if (\"[Route(\\\"\" in  prev_line) and (\"//\" not in prev_line): \n",
    "                        loop = False\n",
    "                        route = prev_line[len(\"[Route(\\\"\" ):-3]\n",
    "                        \n",
    "                        endpoint.append(route)\n",
    "                        controller.append(dir[:dir.index(\"Controller\") ])\n",
    "                    \n",
    "                    prev_line_no -= 1\n",
    "        \n",
    "        f.close()\n",
    "\n",
    "pd.DataFrame({\"endpoints\": endpoint, \"controller\": controller}).to_csv(\"contents.csv\", index= False)\n"
   ]
  },
  {
   "cell_type": "markdown",
   "metadata": {},
   "source": [
    "## Adding Roles\n",
    "1. Locate the Authorize Decorator\n",
    "2. Generate a new Decorator based on the CSV Role sepecification.\n",
    "3. Overwrite the original Authorize decorator with the new one."
   ]
  },
  {
   "cell_type": "code",
   "execution_count": 14,
   "metadata": {},
   "outputs": [
    {
     "data": {
      "text/plain": [
       "'\\t\\t[Authorize(Roles = UserRoles.HOD + \",\" + UserRoles.HODHR + \",\" + UserRoles.HRFIN ) ]\\n'"
      ]
     },
     "execution_count": 14,
     "metadata": {},
     "output_type": "execute_result"
    }
   ],
   "source": [
    "\n",
    "#         \n",
    "roles = \"HOD, HODHR, \\tHRFIN\"\n",
    "def gen_authorize_line(roles):\n",
    "    roles = [f\"UserRoles.{role.strip()}\" for role in roles.split(\",\")]\n",
    "    return f\"\"\"\\t\\t[Authorize(Roles = {' + \",\" + '.join(roles)} ) ]\\n\"\"\"\n",
    "\n",
    "gen_authorize_line(roles)"
   ]
  },
  {
   "cell_type": "code",
   "execution_count": 28,
   "metadata": {},
   "outputs": [
    {
     "name": "stdout",
     "output_type": "stream",
     "text": [
      "0\n",
      "0\n",
      "0\n",
      "0\n",
      "0\n",
      "0\n",
      "590\n"
     ]
    },
    {
     "ename": "IndexError",
     "evalue": "list assignment index out of range",
     "output_type": "error",
     "traceback": [
      "\u001b[1;31m---------------------------------------------------------------------------\u001b[0m",
      "\u001b[1;31mIndexError\u001b[0m                                Traceback (most recent call last)",
      "\u001b[1;32mc:\\Users\\brian\\OneDrive\\Desktop\\stuff\\Development\\Projects\\Scraps\\RPFBE\\swamp.ipynb Cell 9\u001b[0m line \u001b[0;36m5\n\u001b[0;32m     <a href='vscode-notebook-cell:/c%3A/Users/brian/OneDrive/Desktop/stuff/Development/Projects/Scraps/RPFBE/swamp.ipynb#W6sZmlsZQ%3D%3D?line=54'>55</a>\u001b[0m \u001b[39mif\u001b[39;00m(roles_query \u001b[39mand\u001b[39;00m found_authorize):\n\u001b[0;32m     <a href='vscode-notebook-cell:/c%3A/Users/brian/OneDrive/Desktop/stuff/Development/Projects/Scraps/RPFBE/swamp.ipynb#W6sZmlsZQ%3D%3D?line=55'>56</a>\u001b[0m     \u001b[39mprint\u001b[39m(prev_line_no)\n\u001b[1;32m---> <a href='vscode-notebook-cell:/c%3A/Users/brian/OneDrive/Desktop/stuff/Development/Projects/Scraps/RPFBE/swamp.ipynb#W6sZmlsZQ%3D%3D?line=56'>57</a>\u001b[0m     new_file_contents[prev_line_no \u001b[39m-\u001b[39m\u001b[39m1\u001b[39m] \u001b[39m=\u001b[39m gen_authorize_line(roles_query)\n\u001b[0;32m     <a href='vscode-notebook-cell:/c%3A/Users/brian/OneDrive/Desktop/stuff/Development/Projects/Scraps/RPFBE/swamp.ipynb#W6sZmlsZQ%3D%3D?line=57'>58</a>\u001b[0m     found_authorize \u001b[39m=\u001b[39m \u001b[39mFalse\u001b[39;00m\n\u001b[0;32m     <a href='vscode-notebook-cell:/c%3A/Users/brian/OneDrive/Desktop/stuff/Development/Projects/Scraps/RPFBE/swamp.ipynb#W6sZmlsZQ%3D%3D?line=58'>59</a>\u001b[0m \u001b[39mif\u001b[39;00m(roles_query):\n",
      "\u001b[1;31mIndexError\u001b[0m: list assignment index out of range"
     ]
    }
   ],
   "source": [
    "files = os.listdir(\"./Controllers\")\n",
    "df = pd.read_csv(\"contents.csv\")\n",
    "\n",
    "for file in files:\n",
    "    authorize_decorator_line_no = []\n",
    "    endpoint = []\n",
    "    file_path = \"./Controllers/\" + file\n",
    "    with open(file_path, \"r\") as f :\n",
    "        file_contents = f.readlines()\n",
    "        new_file_contents = [*file_contents]\n",
    "        controller =[]\n",
    "        for line_no, line in enumerate(file_contents):\n",
    "            found_authorize = False\n",
    "\n",
    "            if \"public async Task\" in line:\n",
    "                indentation = \" \" * (line.index(line.strip()) - 1)  \n",
    "\n",
    "                # Get the route\n",
    "                loop = True\n",
    "                prev_line_no = line_no \n",
    "                route = \"\"\n",
    "                while loop:\n",
    "                    prev_line = file_contents[prev_line_no - 1].strip()\n",
    "                    if (\"[Route(\\\"\" in  prev_line) and (\"//\" not in prev_line): \n",
    "                        loop = False\n",
    "                        route = prev_line[len(\"[Route(\\\"\" ):-3]\n",
    "                        \n",
    "                        endpoint.append(route)\n",
    "                        controller.append(file[:file.index(\"Controller\") ])\n",
    "                    elif(prev_line_no == 0):\n",
    "                        loop = False\n",
    "                    else:\n",
    "                        prev_line_no -= 1\n",
    "                        \n",
    "                # get the authorize line number\n",
    "                loop = True\n",
    "                prev_line_no = line_no\n",
    "                while loop:\n",
    "                    prev_line = file_contents[prev_line_no - 1].strip()\n",
    "                    if (\"[Authorize\" in  prev_line) and (\"//\" not in prev_line): \n",
    "                        authorize_decorator_line_no.append(prev_line_no)\n",
    "                        loop = False\n",
    "                    elif(prev_line_no == 0):\n",
    "                        loop = False\n",
    "                    else:\n",
    "                        prev_line_no -= 1\n",
    "                        pass\n",
    "                    found_authorize = True\n",
    "                \n",
    "                # replace authorize line\n",
    "                get_endpoint = endpoint[-1]\n",
    "                get_controller = file[:-3].split(\"Controller\")[0]\n",
    "                roles_query = df.query(f'endpoints == \"{get_endpoint}\" and controller == \"{get_controller}\"')[\"roles\"].to_list()[0]\n",
    "                \n",
    "                if(roles_query and found_authorize):\n",
    "                    print(prev_line_no)\n",
    "                    new_file_contents[prev_line_no -1] = gen_authorize_line(roles_query)\n",
    "                    found_authorize = False\n",
    "                if(roles_query):\n",
    "                    new_file_contents = [*new_file_contents[:line_no], gen_authorize_line(roles_query), new_file_contents[line_no:]]\n",
    "        f.close()\n",
    "    with open(file_path, \"w\") as f:\n",
    "        f.write(\"\".join(new_file_contents))\n",
    "        f.close()\n",
    "        print(file, \": DONE!\")\n",
    "\n",
    "#         [Authorize(Roles = UserRoles.HOD + \",\" + UserRoles.HODADMIN + \",\" + UserRoles.HODHR + \",\" + UserRoles.HODIT + \",\" + UserRoles.HODFIN) ]"
   ]
  },
  {
   "cell_type": "code",
   "execution_count": null,
   "metadata": {},
   "outputs": [],
   "source": []
  },
  {
   "cell_type": "code",
   "execution_count": null,
   "metadata": {},
   "outputs": [],
   "source": [
    "\n",
    "start_path = \".\"\n",
    "for root, dirs, files in os.walk(start_path):\n",
    "    for file in files:\n",
    "        \n",
    "        if file.split(\".\")[-1] == \"js\":\n",
    "            print(f\"{root}\\\\{file}\")\n",
    "            file_path = f\"{root}\\\\{file}\"\n",
    "            # read file contents\n",
    "            \n",
    "            contents = \"\"\n",
    "            with open(f\"{root}\\\\{file}\", \"r\") as f:\n",
    "                contents = f.read()\n",
    "                f.close()\n",
    "            \n",
    "            contents = contents.replace(\"localStorage.\", \"secureLocalStorage.\")\n",
    "            contents = f'''import  secureLocalStorage  from  \"react-secure-storage\";\\n{contents} '''\n",
    "            \n",
    "            with open(f\"{root}\\\\{file}\", \"w\") as f:\n",
    "                f.write(contents)\n",
    "\n",
    "\n",
    "                f.close()\n",
    "                \n",
    "                print(\"updated\")"
   ]
  }
 ],
 "metadata": {
  "kernelspec": {
   "display_name": "base",
   "language": "python",
   "name": "python3"
  },
  "language_info": {
   "codemirror_mode": {
    "name": "ipython",
    "version": 3
   },
   "file_extension": ".py",
   "mimetype": "text/x-python",
   "name": "python",
   "nbconvert_exporter": "python",
   "pygments_lexer": "ipython3",
   "version": "3.11.3"
  }
 },
 "nbformat": 4,
 "nbformat_minor": 2
}
