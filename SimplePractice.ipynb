{
 "cells": [
  {
   "cell_type": "code",
   "execution_count": 1,
   "metadata": {},
   "outputs": [],
   "source": [
    "import os"
   ]
  },
  {
   "cell_type": "markdown",
   "metadata": {},
   "source": [
    "## Fibonacci Series"
   ]
  },
  {
   "cell_type": "code",
   "execution_count": 33,
   "metadata": {},
   "outputs": [
    {
     "name": "stdout",
     "output_type": "stream",
     "text": [
      "[1, 1, 2] 3\n",
      "[1, 1, 2, 3] 4\n",
      "[1, 1, 2, 3, 5] 5\n"
     ]
    },
    {
     "data": {
      "text/plain": [
       "5"
      ]
     },
     "execution_count": 33,
     "metadata": {},
     "output_type": "execute_result"
    }
   ],
   "source": [
    "# Series sequence - 1, 1, 2, 3, 5, ...\n",
    "fibo_list = [1, 1]\n",
    "\n",
    "def fibo(n): \n",
    "    if( n <= 2): return 1\n",
    "    else:\n",
    "        for i in range(1, n -1):\n",
    "            prev_num = fibo_list[-1]\n",
    "            curr_num = fibo_list[-2]\n",
    "            new_num = curr_num + prev_num\n",
    "            fibo_list.append(new_num)\n",
    "            print(fibo_list, len(fibo_list))\n",
    "    return fibo_list[-1]\n",
    "\n",
    "fibo(5)"
   ]
  },
  {
   "cell_type": "markdown",
   "metadata": {},
   "source": [
    "## Factorial\n",
    "1. iterate through numbers less than our test\n",
    "2. Check if there is a reminder when dividing test by i \n",
    "3. if there is no reminder then:<br>\n",
    "    3.1. update the test figure to the quocient of test / i <br>\n",
    "    3.2. add this number to the factors list. \n",
    "4. if there is a reminder<br>\n",
    "    4.1. move on to the next i\n",
    "5. Do this until i equal to 1 (smallest prime number)"
   ]
  },
  {
   "cell_type": "code",
   "execution_count": 102,
   "metadata": {},
   "outputs": [
    {
     "name": "stdout",
     "output_type": "stream",
     "text": [
      "2000  ÷  2  =  1000\n",
      ".... Updating test_num to 1000 ....\n",
      "1000  ÷  2  =  500\n",
      ".... Updating test_num to 500 ....\n",
      "500  ÷  2  =  250\n",
      ".... Updating test_num to 250 ....\n",
      "250  ÷  2  =  125\n",
      ".... Updating test_num to 125 ....\n",
      "125  ÷  2  =  62  rem  1\n",
      "125  ÷  3  =  41  rem  2\n",
      "125  ÷  4  =  31  rem  1\n",
      "125  ÷  5  =  25\n",
      ".... Updating test_num to 25 ....\n",
      "25  ÷  2  =  12  rem  1\n",
      "25  ÷  3  =  8  rem  1\n",
      "25  ÷  4  =  6  rem  1\n",
      "25  ÷  5  =  5\n",
      ".... Updating test_num to 5 ....\n",
      "5  ÷  2  =  2  rem  1\n",
      "5  ÷  3  =  1  rem  2\n",
      "5  ÷  4  =  1  rem  1\n",
      "5  ÷  5  =  1\n",
      ".... Updating test_num to 1 ....\n",
      "[-1, 2, 2, 2, 2, 5, 5, 5]\n"
     ]
    }
   ],
   "source": [
    "test_num = 1995\n",
    "\n",
    "def get_factors(test_num):\n",
    "    factors = []\n",
    "    while True:\n",
    "        \n",
    "        is_negative = (abs(test_num) + test_num) == 0\n",
    "        if is_negative:\n",
    "            test_num = abs(test_num)\n",
    "            factors.append(-1)\n",
    "            \n",
    "        for i in range(2, test_num + 1):\n",
    "            reminder = test_num % i\n",
    "\n",
    "            # the test number is divisible by i\n",
    "            if(reminder == 0):\n",
    "                print(test_num, \" ÷ \", i, \" = \", test_num // i)\n",
    "                factors.append(i)\n",
    "                test_num = test_num // i\n",
    "                print(f\".... Updating test_num to {test_num} ....\")\n",
    "                break;\n",
    "            \n",
    "            # the test number is not divisible by i\n",
    "            else:\n",
    "                print(test_num, \" ÷ \", i, \" = \", test_num // i, \" rem \", reminder)\n",
    "                \n",
    "        # exit if we get to prime number (the last item in the factors list)\n",
    "        if test_num == 1 :\n",
    "            break\n",
    "    return factors\n",
    "\n",
    "print(get_factors(-2000))"
   ]
  },
  {
   "cell_type": "markdown",
   "metadata": {},
   "source": [
    "## palindrome check\n",
    "1. reverse the stirng \n",
    "2. check if the reversed string is the same as the original one"
   ]
  },
  {
   "cell_type": "code",
   "execution_count": 166,
   "metadata": {},
   "outputs": [
    {
     "name": "stdout",
     "output_type": "stream",
     "text": [
      "Method 1:  True\n",
      "Method 2:  True\n"
     ]
    }
   ],
   "source": [
    "test_str = \"refer\"\n",
    "\n",
    "# method 1\n",
    "temp = []\n",
    "for idx, char in enumerate(list(test_str)):\n",
    "    temp.insert(0, char)\n",
    "rev_str = \"\".join(temp) \n",
    "print(\"Method 1: \", rev_str == test_str)\n",
    "\n",
    "# method 2\n",
    "check_palindrome= lambda test_str: test_str[::-1] == test_str\n",
    "print(\"Method 2: \", check_palindrome(test_str))"
   ]
  },
  {
   "cell_type": "markdown",
   "metadata": {},
   "source": [
    "## Bubble Sort\n",
    "1. check if two adjesent elemnts are in orrder\n",
    "2. if they are:<br/>\n",
    "    a. move onto the next pair\n",
    "3. if not <br/>\n",
    "    a. switch their their positions.\n",
    "4. do until you run through the list and you dont get to make andy changes."
   ]
  },
  {
   "cell_type": "code",
   "execution_count": 186,
   "metadata": {},
   "outputs": [
    {
     "name": "stdout",
     "output_type": "stream",
     "text": [
      "[1, 9, 2, 5, 3, 2, 1]\n",
      "[1, 9, 2, 5, 3, 2, 1]\n",
      "[1, 2, 5, 3, 2, 1, 9]\n",
      "[1, 2, 3, 2, 1, 5, 9]\n",
      "[1, 2, 2, 1, 3, 5, 9]\n",
      "[1, 2, 1, 2, 3, 5, 9]\n",
      "[1, 1, 2, 2, 3, 5, 9]\n",
      "done\n"
     ]
    }
   ],
   "source": [
    "test_list = [1, 9, 2, 5, 3, 2, 1] \n",
    "print(test_list)\n",
    "running= True\n",
    "\n",
    "if len(test_list) > 1:\n",
    "    while running:\n",
    "        print(test_list)\n",
    "        is_changed = False\n",
    "       \n",
    "        for i in range(1, len(test_list)):\n",
    "\n",
    "            if test_list[i-1] > test_list[i]:\n",
    "                is_changed = True\n",
    "                # Exchange the values for the index pair\n",
    "                temp = test_list[i]\n",
    "                test_list[i] = test_list[i - 1]\n",
    "                test_list[i - 1] = temp\n",
    "\n",
    "            else:\n",
    "                reached_end = (len(test_list) - 1) == i\n",
    "                if reached_end and not is_changed:\n",
    "                    running = False\n",
    "                    print(\"done\")\n",
    "\n"
   ]
  },
  {
   "cell_type": "markdown",
   "metadata": {},
   "source": [
    "## Prime Check\n",
    "* prime if divible by 1 and self\n",
    "* num is prime irrespective of direction (+/-)"
   ]
  },
  {
   "cell_type": "code",
   "execution_count": 177,
   "metadata": {},
   "outputs": [
    {
     "data": {
      "text/plain": [
       "True"
      ]
     },
     "execution_count": 177,
     "metadata": {},
     "output_type": "execute_result"
    }
   ],
   "source": [
    "test_num = -72\n",
    "\n",
    "is_prime = False\n",
    "# run some common divisibility tests\n",
    "for i in range(2, abs(test_num) + 1):\n",
    "    reminder = test_num % i\n",
    "\n",
    "    if (reminder == 0 and i == abs(test_num)):\n",
    "        is_prime = True\n",
    "\n",
    "is_prime "
   ]
  },
  {
   "cell_type": "markdown",
   "metadata": {},
   "source": [
    "## Array Opperation\n",
    "1. Maximum\n",
    "2. Minimum\n",
    "3. Summation\n",
    "4. Average"
   ]
  },
  {
   "cell_type": "code",
   "execution_count": 185,
   "metadata": {},
   "outputs": [
    {
     "data": {
      "text/plain": [
       "(6, 1, 21, 3.5, 6)"
      ]
     },
     "execution_count": 185,
     "metadata": {},
     "output_type": "execute_result"
    }
   ],
   "source": [
    "# finding the maximum, minimum, average.\n",
    "\n",
    "max_elm = None\n",
    "min_elm = None\n",
    "total = None\n",
    "avg = None\n",
    "\n",
    "test_array = [1, 2, 3, 4, 5, 6]\n",
    "\n",
    "# maximumn\n",
    "for elm in test_array:\n",
    "    if max_elm != None:\n",
    "        if elm > max_elm:\n",
    "            max_elm = elm\n",
    "    else:\n",
    "        max_elm = elm\n",
    "\n",
    "# minumum\n",
    "for elm in test_array:\n",
    "    if min_elm != None:\n",
    "        if elm < min_elm:\n",
    "            min_elm = elm\n",
    "     \n",
    "    else:\n",
    "        min_elm = elm\n",
    "\n",
    "\n",
    "# total\n",
    "for elm in test_array:\n",
    "    if total != None:\n",
    "        total += elm\n",
    "    else:\n",
    "        total = elm\n",
    "\n",
    "# Average\n",
    "total = None\n",
    "for elm in test_array:\n",
    "    if total != None:\n",
    "        total += elm\n",
    "    else:\n",
    "        total = elm\n",
    "\n",
    "avg = total / len(test_array)\n",
    "(max_elm, min_elm, total, avg)"
   ]
  },
  {
   "cell_type": "markdown",
   "metadata": {},
   "source": [
    "## Factorial Operation"
   ]
  },
  {
   "cell_type": "code",
   "execution_count": 188,
   "metadata": {},
   "outputs": [
    {
     "data": {
      "text/plain": [
       "120"
      ]
     },
     "execution_count": 188,
     "metadata": {},
     "output_type": "execute_result"
    }
   ],
   "source": [
    "test_num = 5\n",
    "\n",
    "factorial = 1\n",
    "for i in range(1, abs(test_num) + 1):\n",
    "    factorial *= i\n",
    "\n",
    "factorial"
   ]
  },
  {
   "cell_type": "code",
   "execution_count": null,
   "metadata": {},
   "outputs": [],
   "source": []
  }
 ],
 "metadata": {
  "kernelspec": {
   "display_name": "base",
   "language": "python",
   "name": "python3"
  },
  "language_info": {
   "codemirror_mode": {
    "name": "ipython",
    "version": 3
   },
   "file_extension": ".py",
   "mimetype": "text/x-python",
   "name": "python",
   "nbconvert_exporter": "python",
   "pygments_lexer": "ipython3",
   "version": "3.11.3"
  }
 },
 "nbformat": 4,
 "nbformat_minor": 2
}
